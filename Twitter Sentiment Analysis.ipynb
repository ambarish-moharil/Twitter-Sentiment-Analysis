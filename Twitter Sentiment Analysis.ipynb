{
 "cells": [
  {
   "cell_type": "markdown",
   "metadata": {},
   "source": [
    "# Sentiment Analysis Of Tweets"
   ]
  },
  {
   "cell_type": "code",
   "execution_count": 13,
   "metadata": {
    "collapsed": true
   },
   "outputs": [],
   "source": [
    "# conda install twython\n",
    "from twython import Twython"
   ]
  },
  {
   "cell_type": "code",
   "execution_count": 14,
   "metadata": {
    "collapsed": true
   },
   "outputs": [],
   "source": [
    "# https://apps.twitter.com/\n",
    "consumer_key = 'oFNYu2QOp1UbUArIei9jiRQCT'\n",
    "consumer_secret = 'NDjBgUPnoCXBCfnQD2CdUAq9VnIB85SMlPB8jledp47pyMbOAw'\n",
    "access_token = '841034064-MVx5Gq9S5HlSzkUYlSmZRO8IGH3vuAsb0Y7VTAK0'\n",
    "access_token_secret = '9QBefJ6lpcPaumJt8v2XV5RIPqvDiib8oRd3d3xueBnND'"
   ]
  },
  {
   "cell_type": "code",
   "execution_count": 15,
   "metadata": {
    "collapsed": true
   },
   "outputs": [],
   "source": [
    "twitter = Twython(consumer_key, consumer_secret,\n",
    "                         access_token, access_token_secret)"
   ]
  },
  {
   "cell_type": "code",
   "execution_count": 16,
   "metadata": {},
   "outputs": [
    {
     "name": "stdout",
     "output_type": "stream",
     "text": [
      "{'statuses': [{'created_at': 'Sat Jun 30 22:20:58 +0000 2018', 'id': 1013185651360108556, 'id_str': '1013185651360108556', 'text': \"🌟🇦🇷🚫\\n🌟🇵🇹⛔️\\n\\nTwo of football's biggest ever stars depart the #WorldCup on the same day as #ARG &amp; #POR are eliminated… https://t.co/Pxsxp5nsmn\", 'truncated': True, 'entities': {'hashtags': [{'text': 'WorldCup', 'indices': [60, 69]}, {'text': 'ARG', 'indices': [89, 93]}, {'text': 'POR', 'indices': [100, 104]}], 'symbols': [], 'user_mentions': [], 'urls': [{'url': 'https://t.co/Pxsxp5nsmn', 'expanded_url': 'https://twitter.com/i/web/status/1013185651360108556', 'display_url': 'twitter.com/i/web/status/1…', 'indices': [121, 144]}]}, 'metadata': {'result_type': 'popular', 'iso_language_code': 'en'}, 'source': '<a href=\"http://twitter.com\" rel=\"nofollow\">Twitter Web Client</a>', 'in_reply_to_status_id': None, 'in_reply_to_status_id_str': None, 'in_reply_to_user_id': None, 'in_reply_to_user_id_str': None, 'in_reply_to_screen_name': None, 'user': {'id': 138372303, 'id_str': '138372303', 'name': 'FIFA World Cup 🏆', 'screen_name': 'FIFAWorldCup', 'location': '', 'description': 'The official Twitter account of the FIFA World Cup!', 'url': 'https://t.co/NhpNiwtgzP', 'entities': {'url': {'urls': [{'url': 'https://t.co/NhpNiwtgzP', 'expanded_url': 'http://www.fifa.com/worldcup', 'display_url': 'fifa.com/worldcup', 'indices': [0, 23]}]}, 'description': {'urls': []}}, 'protected': False, 'followers_count': 6654358, 'friends_count': 543, 'listed_count': 12235, 'created_at': 'Thu Apr 29 10:58:07 +0000 2010', 'favourites_count': 477, 'utc_offset': None, 'time_zone': None, 'geo_enabled': True, 'verified': True, 'statuses_count': 17854, 'lang': 'en', 'contributors_enabled': False, 'is_translator': False, 'is_translation_enabled': False, 'profile_background_color': 'C6E2EE', 'profile_background_image_url': 'http://abs.twimg.com/images/themes/theme1/bg.png', 'profile_background_image_url_https': 'https://abs.twimg.com/images/themes/theme1/bg.png', 'profile_background_tile': False, 'profile_image_url': 'http://pbs.twimg.com/profile_images/875621877279883264/sL6GBCf2_normal.jpg', 'profile_image_url_https': 'https://pbs.twimg.com/profile_images/875621877279883264/sL6GBCf2_normal.jpg', 'profile_banner_url': 'https://pbs.twimg.com/profile_banners/138372303/1528966543', 'profile_link_color': '1F98C7', 'profile_sidebar_border_color': 'FFFFFF', 'profile_sidebar_fill_color': 'DAECF4', 'profile_text_color': '663B12', 'profile_use_background_image': True, 'has_extended_profile': False, 'default_profile': False, 'default_profile_image': False, 'following': False, 'follow_request_sent': False, 'notifications': False, 'translator_type': 'none'}, 'geo': None, 'coordinates': None, 'place': None, 'contributors': None, 'is_quote_status': False, 'retweet_count': 6827, 'favorite_count': 18419, 'favorited': False, 'retweeted': False, 'possibly_sensitive': False, 'lang': 'en'}, {'created_at': 'Sat Jun 30 15:26:45 +0000 2018', 'id': 1013081411945783297, 'id_str': '1013081411945783297', 'text': 'Mbappé becomes the first teenager to score in multiple FIFA World Cup games since Michael Owen in 1998. https://t.co/l9pMW9faV2', 'truncated': False, 'entities': {'hashtags': [], 'symbols': [], 'user_mentions': [], 'urls': [], 'media': [{'id': 1013080502209675264, 'id_str': '1013080502209675264', 'indices': [104, 127], 'media_url': 'http://pbs.twimg.com/media/Dg8vWWcVAAAqsjp.jpg', 'media_url_https': 'https://pbs.twimg.com/media/Dg8vWWcVAAAqsjp.jpg', 'url': 'https://t.co/l9pMW9faV2', 'display_url': 'pic.twitter.com/l9pMW9faV2', 'expanded_url': 'https://twitter.com/FOXSoccer/status/1013081411945783297/photo/1', 'type': 'photo', 'sizes': {'large': {'w': 2048, 'h': 2048, 'resize': 'fit'}, 'thumb': {'w': 150, 'h': 150, 'resize': 'crop'}, 'small': {'w': 680, 'h': 680, 'resize': 'fit'}, 'medium': {'w': 1200, 'h': 1200, 'resize': 'fit'}}}]}, 'extended_entities': {'media': [{'id': 1013080502209675264, 'id_str': '1013080502209675264', 'indices': [104, 127], 'media_url': 'http://pbs.twimg.com/media/Dg8vWWcVAAAqsjp.jpg', 'media_url_https': 'https://pbs.twimg.com/media/Dg8vWWcVAAAqsjp.jpg', 'url': 'https://t.co/l9pMW9faV2', 'display_url': 'pic.twitter.com/l9pMW9faV2', 'expanded_url': 'https://twitter.com/FOXSoccer/status/1013081411945783297/photo/1', 'type': 'photo', 'sizes': {'large': {'w': 2048, 'h': 2048, 'resize': 'fit'}, 'thumb': {'w': 150, 'h': 150, 'resize': 'crop'}, 'small': {'w': 680, 'h': 680, 'resize': 'fit'}, 'medium': {'w': 1200, 'h': 1200, 'resize': 'fit'}}}]}, 'metadata': {'result_type': 'popular', 'iso_language_code': 'en'}, 'source': '<a href=\"https://studio.twitter.com\" rel=\"nofollow\">Media Studio</a>', 'in_reply_to_status_id': None, 'in_reply_to_status_id_str': None, 'in_reply_to_user_id': None, 'in_reply_to_user_id_str': None, 'in_reply_to_screen_name': None, 'user': {'id': 119593082, 'id_str': '119593082', 'name': 'FOX Soccer', 'screen_name': 'FOXSoccer', 'location': 'Los Angeles, CA', 'description': \"America's home for the FIFA World Cup™\", 'url': 'https://t.co/PwczHpBBR6', 'entities': {'url': {'urls': [{'url': 'https://t.co/PwczHpBBR6', 'expanded_url': 'http://foxs.pt/FOXSportsGO', 'display_url': 'foxs.pt/FOXSportsGO', 'indices': [0, 23]}]}, 'description': {'urls': []}}, 'protected': False, 'followers_count': 1281885, 'friends_count': 1534, 'listed_count': 6152, 'created_at': 'Thu Mar 04 02:57:00 +0000 2010', 'favourites_count': 978, 'utc_offset': None, 'time_zone': None, 'geo_enabled': True, 'verified': True, 'statuses_count': 111313, 'lang': 'en', 'contributors_enabled': False, 'is_translator': False, 'is_translation_enabled': False, 'profile_background_color': 'F5F5E9', 'profile_background_image_url': 'http://abs.twimg.com/images/themes/theme1/bg.png', 'profile_background_image_url_https': 'https://abs.twimg.com/images/themes/theme1/bg.png', 'profile_background_tile': False, 'profile_image_url': 'http://pbs.twimg.com/profile_images/842451416312512512/b2aC4QFn_normal.jpg', 'profile_image_url_https': 'https://pbs.twimg.com/profile_images/842451416312512512/b2aC4QFn_normal.jpg', 'profile_banner_url': 'https://pbs.twimg.com/profile_banners/119593082/1528720800', 'profile_link_color': '0084B4', 'profile_sidebar_border_color': 'FFFFFF', 'profile_sidebar_fill_color': 'DDEEF6', 'profile_text_color': '333333', 'profile_use_background_image': True, 'has_extended_profile': False, 'default_profile': False, 'default_profile_image': False, 'following': False, 'follow_request_sent': False, 'notifications': False, 'translator_type': 'none'}, 'geo': None, 'coordinates': None, 'place': None, 'contributors': None, 'is_quote_status': False, 'retweet_count': 1813, 'favorite_count': 5093, 'favorited': False, 'retweeted': False, 'possibly_sensitive': False, 'lang': 'en'}], 'search_metadata': {'completed_in': 0.047, 'max_id': 0, 'max_id_str': '0', 'next_results': '?max_id=1013081411945783296&q=FIFA&lang=en&count=2&include_entities=1&result_type=popular', 'query': 'FIFA', 'count': 2, 'since_id': 0, 'since_id_str': '0'}}\n"
     ]
    }
   ],
   "source": [
    "result_dict = twitter.search(q='FIFA', lang = 'en', count=2,result_type='popular')\n",
    "print(result_dict)"
   ]
  },
  {
   "cell_type": "code",
   "execution_count": 17,
   "metadata": {},
   "outputs": [
    {
     "name": "stdout",
     "output_type": "stream",
     "text": [
      "🌟🇦🇷🚫\n",
      "🌟🇵🇹⛔️\n",
      "\n",
      "Two of football's biggest ever stars depart the #WorldCup on the same day as #ARG &amp; #POR are eliminated… https://t.co/Pxsxp5nsmn\n",
      "#############################################\n",
      "Mbappé becomes the first teenager to score in multiple FIFA World Cup games since Michael Owen in 1998. https://t.co/l9pMW9faV2\n",
      "#############################################\n"
     ]
    }
   ],
   "source": [
    "list_tweets = result_dict['statuses']\n",
    "for tweet in list_tweets:\n",
    "    print (tweet['text'])\n",
    "    print('#############################################')"
   ]
  },
  {
   "cell_type": "markdown",
   "metadata": {},
   "source": [
    "# Twitter to MongoDB using Python"
   ]
  },
  {
   "cell_type": "code",
   "execution_count": 4,
   "metadata": {
    "collapsed": true
   },
   "outputs": [],
   "source": [
    "# from twython import Twython\n",
    "# import pymongo"
   ]
  },
  {
   "cell_type": "code",
   "execution_count": 28,
   "metadata": {},
   "outputs": [
    {
     "name": "stdout",
     "output_type": "stream",
     "text": [
      "🌟🇦🇷🚫\n",
      "🌟🇵🇹⛔️\n",
      "\n",
      "Two of football's biggest ever stars depart the #WorldCup on the same day as #ARG &amp; #POR are eliminated… https://t.co/Pxsxp5nsmn\n",
      "#############################################\n",
      "Mbappé becomes the first teenager to score in multiple FIFA World Cup games since Michael Owen in 1998. https://t.co/l9pMW9faV2\n",
      "#############################################\n",
      "#EAPRIZEDRAW RT for the chance to win a signed Ronaldo shirt as part of our #WorldCup National Team Shirt giveaways… https://t.co/DWv5uD4hRK\n",
      "#############################################\n",
      "On this day in 2002, #BRA won their FIFTH FIFA #WorldCup with a 2-0 victory over Germany! \n",
      "\n",
      "More stats and facts fo… https://t.co/bS5KAS1xHT\n",
      "#############################################\n",
      "No one is safe in the FIFA World Cup group chat 😂 https://t.co/oElT3RgWKU\n",
      "#############################################\n"
     ]
    }
   ],
   "source": [
    "result_dict = twitter.search(q='FIFA', lang = 'en', count=5,result_type='popular')\n",
    "list_tweets = result_dict['statuses']\n",
    "for tweet in list_tweets:\n",
    "    print (tweet['text'])\n",
    "    print('#############################################')"
   ]
  },
  {
   "cell_type": "code",
   "execution_count": 29,
   "metadata": {
    "collapsed": true
   },
   "outputs": [],
   "source": [
    "connection = pymongo.MongoClient()\n",
    "\n",
    "mydb=connection.twitter\n",
    "db_tweets = mydb.tweets"
   ]
  },
  {
   "cell_type": "code",
   "execution_count": 30,
   "metadata": {},
   "outputs": [
    {
     "data": {
      "text/plain": [
       "<pymongo.results.InsertManyResult at 0x834ebd0>"
      ]
     },
     "execution_count": 30,
     "metadata": {},
     "output_type": "execute_result"
    }
   ],
   "source": [
    "db_tweets.insert_many(list_tweets)"
   ]
  },
  {
   "cell_type": "code",
   "execution_count": 31,
   "metadata": {},
   "outputs": [
    {
     "name": "stdout",
     "output_type": "stream",
     "text": [
      "🌟🇦🇷🚫\n",
      "🌟🇵🇹⛔️\n",
      "\n",
      "Two of football's biggest ever stars depart the #WorldCup on the same day as #ARG &amp; #POR are eliminated… https://t.co/Pxsxp5nsmn\n",
      "{'hashtags': [{'text': 'WorldCup', 'indices': [60, 69]}, {'text': 'ARG', 'indices': [89, 93]}, {'text': 'POR', 'indices': [100, 104]}], 'symbols': [], 'user_mentions': [], 'urls': [{'url': 'https://t.co/Pxsxp5nsmn', 'expanded_url': 'https://twitter.com/i/web/status/1013185651360108556', 'display_url': 'twitter.com/i/web/status/1…', 'indices': [121, 144]}]}\n",
      "Sat Jun 30 22:20:58 +0000 2018\n",
      "###########################################\n",
      "Mbappé becomes the first teenager to score in multiple FIFA World Cup games since Michael Owen in 1998. https://t.co/l9pMW9faV2\n",
      "{'hashtags': [], 'symbols': [], 'user_mentions': [], 'urls': [], 'media': [{'id': 1013080502209675264, 'id_str': '1013080502209675264', 'indices': [104, 127], 'media_url': 'http://pbs.twimg.com/media/Dg8vWWcVAAAqsjp.jpg', 'media_url_https': 'https://pbs.twimg.com/media/Dg8vWWcVAAAqsjp.jpg', 'url': 'https://t.co/l9pMW9faV2', 'display_url': 'pic.twitter.com/l9pMW9faV2', 'expanded_url': 'https://twitter.com/FOXSoccer/status/1013081411945783297/photo/1', 'type': 'photo', 'sizes': {'large': {'w': 2048, 'h': 2048, 'resize': 'fit'}, 'thumb': {'w': 150, 'h': 150, 'resize': 'crop'}, 'small': {'w': 680, 'h': 680, 'resize': 'fit'}, 'medium': {'w': 1200, 'h': 1200, 'resize': 'fit'}}}]}\n",
      "Sat Jun 30 15:26:45 +0000 2018\n",
      "###########################################\n",
      "#EAPRIZEDRAW RT for the chance to win a signed Ronaldo shirt as part of our #WorldCup National Team Shirt giveaways… https://t.co/DWv5uD4hRK\n",
      "{'hashtags': [{'text': 'EAPRIZEDRAW', 'indices': [0, 12]}, {'text': 'WorldCup', 'indices': [76, 85]}], 'symbols': [], 'user_mentions': [], 'urls': [{'url': 'https://t.co/DWv5uD4hRK', 'expanded_url': 'https://twitter.com/i/web/status/1013033157254438912', 'display_url': 'twitter.com/i/web/status/1…', 'indices': [117, 140]}]}\n",
      "Sat Jun 30 12:15:00 +0000 2018\n",
      "###########################################\n",
      "On this day in 2002, #BRA won their FIFTH FIFA #WorldCup with a 2-0 victory over Germany! \n",
      "\n",
      "More stats and facts fo… https://t.co/bS5KAS1xHT\n",
      "{'hashtags': [{'text': 'BRA', 'indices': [21, 25]}, {'text': 'WorldCup', 'indices': [47, 56]}], 'symbols': [], 'user_mentions': [], 'urls': [{'url': 'https://t.co/bS5KAS1xHT', 'expanded_url': 'https://twitter.com/i/web/status/1012990074382938112', 'display_url': 'twitter.com/i/web/status/1…', 'indices': [117, 140]}]}\n",
      "Sat Jun 30 09:23:48 +0000 2018\n",
      "###########################################\n",
      "No one is safe in the FIFA World Cup group chat 😂 https://t.co/oElT3RgWKU\n",
      "{'hashtags': [], 'symbols': [], 'user_mentions': [], 'urls': [], 'media': [{'id': 1012846418258583553, 'id_str': '1012846418258583553', 'indices': [50, 73], 'media_url': 'http://pbs.twimg.com/media/Dg5a4lLVAAAE4QZ.jpg', 'media_url_https': 'https://pbs.twimg.com/media/Dg5a4lLVAAAE4QZ.jpg', 'url': 'https://t.co/oElT3RgWKU', 'display_url': 'pic.twitter.com/oElT3RgWKU', 'expanded_url': 'https://twitter.com/FOXSoccer/status/1012849363486269440/video/1', 'type': 'photo', 'sizes': {'thumb': {'w': 150, 'h': 150, 'resize': 'crop'}, 'small': {'w': 544, 'h': 680, 'resize': 'fit'}, 'large': {'w': 1212, 'h': 1514, 'resize': 'fit'}, 'medium': {'w': 961, 'h': 1200, 'resize': 'fit'}}}]}\n",
      "Sat Jun 30 00:04:40 +0000 2018\n",
      "###########################################\n"
     ]
    }
   ],
   "source": [
    "# Select from collection\n",
    "records_all = db_tweets.find()\n",
    "\n",
    "for record in records_all:\n",
    "    print (record['text'])\n",
    "    print(record['entities'])\n",
    "    print(record['created_at'])\n",
    "    print('###########################################')"
   ]
  },
  {
   "cell_type": "markdown",
   "metadata": {},
   "source": [
    "# Sentiment Analysis"
   ]
  },
  {
   "cell_type": "code",
   "execution_count": 33,
   "metadata": {
    "collapsed": true
   },
   "outputs": [],
   "source": [
    "import re\n",
    "# conda install -c conda-forge textblob\n",
    "from textblob import TextBlob"
   ]
  },
  {
   "cell_type": "code",
   "execution_count": 35,
   "metadata": {
    "collapsed": true
   },
   "outputs": [],
   "source": [
    "def clean_tweet(tweet):\n",
    "        '''\n",
    "        Utility function to clean tweet text by removing links, special characters\n",
    "        using simple regex statements.\n",
    "        '''\n",
    "        return (' '.join(re.sub(\"(@[A-Za-z0-9]+)|([^0-9A-Za-z \\t])|(\\w+:\\/\\/\\S+)\", \" \", tweet).split()))"
   ]
  },
  {
   "cell_type": "code",
   "execution_count": 39,
   "metadata": {
    "collapsed": true
   },
   "outputs": [],
   "source": [
    "def get_tweet_sentiment(tweet):\n",
    "        '''\n",
    "        Utility function to classify sentiment of passed tweet\n",
    "        using textblob's sentiment method\n",
    "        '''\n",
    "        # create TextBlob object of passed tweet text\n",
    "        analysis = TextBlob(clean_tweet(tweet))\n",
    "        # set sentiment\n",
    "        if analysis.sentiment.polarity > 0:\n",
    "            return ('positive')\n",
    "        elif analysis.sentiment.polarity == 0:\n",
    "            return ('neutral')\n",
    "        else:\n",
    "            return ('negative')"
   ]
  },
  {
   "cell_type": "code",
   "execution_count": 42,
   "metadata": {},
   "outputs": [
    {
     "name": "stdout",
     "output_type": "stream",
     "text": [
      "neutral ===> 🌟🇦🇷🚫\n",
      "🌟🇵🇹⛔️\n",
      "\n",
      "Two of football's biggest ever stars depart the #WorldCup on the same day as #ARG &amp; #POR are eliminated… https://t.co/Pxsxp5nsmn\n",
      "###########################################\n",
      "positive ===> Mbappé becomes the first teenager to score in multiple FIFA World Cup games since Michael Owen in 1998. https://t.co/l9pMW9faV2\n",
      "###########################################\n",
      "positive ===> #EAPRIZEDRAW RT for the chance to win a signed Ronaldo shirt as part of our #WorldCup National Team Shirt giveaways… https://t.co/DWv5uD4hRK\n",
      "###########################################\n",
      "positive ===> On this day in 2002, #BRA won their FIFTH FIFA #WorldCup with a 2-0 victory over Germany! \n",
      "\n",
      "More stats and facts fo… https://t.co/bS5KAS1xHT\n",
      "###########################################\n",
      "positive ===> No one is safe in the FIFA World Cup group chat 😂 https://t.co/oElT3RgWKU\n",
      "###########################################\n",
      "{'neutral': 1, 'positive': 4, 'negative': 0}\n"
     ]
    }
   ],
   "source": [
    "# Select from collection\n",
    "records_all = db_tweets.find()\n",
    "sentimets_total = {'neutral': 0 , 'positive' : 0 , 'negative':0}\n",
    "for record in records_all:\n",
    "    tweet_raw = record['text']\n",
    "    sentiment = get_tweet_sentiment(tweet_raw)\n",
    "    print (sentiment,'===>',record['text'])\n",
    "    sentimets_total[sentiment] = sentimets_total[sentiment] + 1\n",
    "    print('###########################################')\n",
    "print(sentimets_total)"
   ]
  },
  {
   "cell_type": "code",
   "execution_count": 45,
   "metadata": {},
   "outputs": [
    {
     "data": {
      "image/png": "[encoded data removed]",
      "text/plain": [
       "<matplotlib.figure.Figure at 0xc475128>"
      ]
     },
     "metadata": {},
     "output_type": "display_data"
    }
   ],
   "source": [
    "from matplotlib import pyplot as plt\n",
    "slices = [sentimets_total['neutral'],sentimets_total['positive'],sentimets_total['negative']]\n",
    "activities = ['Neutral','Positive','Negative']\n",
    "cols = ['c','m','r',]\n",
    "\n",
    "plt.pie(slices,\n",
    "        labels=activities,\n",
    "        colors=cols,\n",
    "        shadow= True,\n",
    "        autopct='%1.1f%%')\n",
    "\n",
    "plt.title('Sentiment Analysis of Tweets')\n",
    "plt.legend()\n",
    "plt.show()"
   ]
  },
  {
   "cell_type": "code",
   "execution_count": null,
   "metadata": {
    "collapsed": true
   },
   "outputs": [],
   "source": []
  }
 ],
 "metadata": {
  "kernelspec": {
   "display_name": "Python 3",
   "language": "python",
   "name": "python3"
  },
  "language_info": {
   "codemirror_mode": {
    "name": "ipython",
    "version": 3
   },
   "file_extension": ".py",
   "mimetype": "text/x-python",
   "name": "python",
   "nbconvert_exporter": "python",
   "pygments_lexer": "ipython3",
   "version": "3.6.5"
  },
  "widgets": {
   "state": {},
   "version": "1.1.2"
  }
 },
 "nbformat": 4,
 "nbformat_minor": 2
}
